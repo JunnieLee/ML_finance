{
  "nbformat": 4,
  "nbformat_minor": 0,
  "metadata": {
    "colab": {
      "name": "stock_prediction_1.ipynb",
      "version": "0.3.2",
      "provenance": [],
      "include_colab_link": true
    },
    "kernelspec": {
      "display_name": "Python 3",
      "language": "python",
      "name": "python3"
    }
  },
  "cells": [
    {
      "cell_type": "markdown",
      "metadata": {
        "id": "view-in-github",
        "colab_type": "text"
      },
      "source": [
        "<a href=\"https://colab.research.google.com/github/JunnieLee/ML_finance/blob/master/stock_prediction_1.ipynb\" target=\"_parent\"><img src=\"https://colab.research.google.com/assets/colab-badge.svg\" alt=\"Open In Colab\"/></a>"
      ]
    },
    {
      "metadata": {
        "id": "IRVd77AUkhFe",
        "colab_type": "text"
      },
      "cell_type": "markdown",
      "source": [
        "## [ver_1]. 딥러닝 모델 - RNN - LSTM"
      ]
    },
    {
      "metadata": {
        "id": "dIuvu_g3khFi",
        "colab_type": "text"
      },
      "cell_type": "markdown",
      "source": [
        "> Keras 기반의 딥러닝 모델 중 LSTM (Long Short Term Memory) 사용"
      ]
    },
    {
      "metadata": {
        "id": "7YM1GCd7khFk",
        "colab_type": "text"
      },
      "cell_type": "markdown",
      "source": [
        "* RNN (Recurrent Neural Network) 구조 : 출력이 다시 state의 입력으로 들어옴\n",
        "\n",
        "표현: ht=fw(ht-1, xt)\n",
        "\n",
        "(ht-1 : old state)\n",
        "(xt : input vector)\n",
        "(fw: function with parameters W)\n",
        "(ht : new state)\n",
        "\n",
        "- RNN은 학습을 할 때 현재 입력값뿐만 아니라 이전에 들어온 입력값을 함께 고려하기 때문에 시계열 데이터를 학습하기에 적합"
      ]
    },
    {
      "metadata": {
        "id": "D1ccGt7gkhFm",
        "colab_type": "text"
      },
      "cell_type": "markdown",
      "source": [
        "> RNN 모델 중에서도 LSTM 사용\n",
        "\n",
        "- RNN은 데이터가 너무 길어지면 이를 표현하는 신경망이 깊어져야만 함. RNN은 역전파(Backpropagation)라는 방법을 통해 학습하는데, 위와 같은 경우 그래디언트가 너무 작아져 학습이 잘 안 되는 문제(Vanishing Gradient Problem)가 발생. 이 문제를 해결하기 위해 LSTM을 사용.\n",
        "\n",
        "\n",
        "- LSTM은 셀 스테이트(cell state)라는 개념을 도입하여 그 내부에 있는 게이트(gate)들을 통해 어떤 정보를 기억하고 어떤 정보를 버릴지 추가적인 학습을 가능하게 함. 이를 통해 RNN이 가진 문제(Vanishing Gradient Problem)를 해결할 수 있음."
      ]
    },
    {
      "metadata": {
        "id": "lbqqZWOikhFo",
        "colab_type": "text"
      },
      "cell_type": "markdown",
      "source": [
        "## 0. import modules"
      ]
    },
    {
      "metadata": {
        "id": "POWtqbE-khFr",
        "colab_type": "code",
        "colab": {}
      },
      "cell_type": "code",
      "source": [
        "import pandas as pd\n",
        "import numpy as np\n",
        "import matplotlib.pyplot as plt\n",
        "from keras.models import Sequential\n",
        "from keras.layers import LSTM, Dropout, Dense, Activation\n",
        "import datetime"
      ],
      "execution_count": 0,
      "outputs": []
    },
    {
      "metadata": {
        "id": "DIl2C_FikhF4",
        "colab_type": "text"
      },
      "cell_type": "markdown",
      "source": [
        "## 1. Naver 5년치 주식 데이터 load하기"
      ]
    },
    {
      "metadata": {
        "id": "00cJRNOEkhF7",
        "colab_type": "text"
      },
      "cell_type": "markdown",
      "source": [
        "- yahoo finance 이용\n",
        "- https://finance.yahoo.com/quote/035420.KS?p=035420.KS&.tsrc=fin-srch"
      ]
    },
    {
      "metadata": {
        "id": "jSaQ96GckhF-",
        "colab_type": "code",
        "colab": {},
        "outputId": "0a2734e8-f868-48b9-d9fb-eb2efe9583f1"
      },
      "cell_type": "code",
      "source": [
        "data = pd.read_csv(r\"C:\\Users\\junnie\\Desktop\\035420.KS.csv\")\n",
        "data.head()"
      ],
      "execution_count": 0,
      "outputs": [
        {
          "output_type": "execute_result",
          "data": {
            "text/html": [
              "<div>\n",
              "<style scoped>\n",
              "    .dataframe tbody tr th:only-of-type {\n",
              "        vertical-align: middle;\n",
              "    }\n",
              "\n",
              "    .dataframe tbody tr th {\n",
              "        vertical-align: top;\n",
              "    }\n",
              "\n",
              "    .dataframe thead th {\n",
              "        text-align: right;\n",
              "    }\n",
              "</style>\n",
              "<table border=\"1\" class=\"dataframe\">\n",
              "  <thead>\n",
              "    <tr style=\"text-align: right;\">\n",
              "      <th></th>\n",
              "      <th>Date</th>\n",
              "      <th>Open</th>\n",
              "      <th>High</th>\n",
              "      <th>Low</th>\n",
              "      <th>Close</th>\n",
              "      <th>Adj Close</th>\n",
              "      <th>Volume</th>\n",
              "    </tr>\n",
              "  </thead>\n",
              "  <tbody>\n",
              "    <tr>\n",
              "      <th>0</th>\n",
              "      <td>2014-01-14</td>\n",
              "      <td>133600.0</td>\n",
              "      <td>137200.0</td>\n",
              "      <td>132400.0</td>\n",
              "      <td>133400.0</td>\n",
              "      <td>129508.875000</td>\n",
              "      <td>981955</td>\n",
              "    </tr>\n",
              "    <tr>\n",
              "      <th>1</th>\n",
              "      <td>2014-01-15</td>\n",
              "      <td>134800.0</td>\n",
              "      <td>139000.0</td>\n",
              "      <td>133400.0</td>\n",
              "      <td>138600.0</td>\n",
              "      <td>134557.187500</td>\n",
              "      <td>787795</td>\n",
              "    </tr>\n",
              "    <tr>\n",
              "      <th>2</th>\n",
              "      <td>2014-01-16</td>\n",
              "      <td>140800.0</td>\n",
              "      <td>144200.0</td>\n",
              "      <td>140200.0</td>\n",
              "      <td>144000.0</td>\n",
              "      <td>139799.671875</td>\n",
              "      <td>809200</td>\n",
              "    </tr>\n",
              "    <tr>\n",
              "      <th>3</th>\n",
              "      <td>2014-01-17</td>\n",
              "      <td>144000.0</td>\n",
              "      <td>144200.0</td>\n",
              "      <td>141600.0</td>\n",
              "      <td>143000.0</td>\n",
              "      <td>138828.859375</td>\n",
              "      <td>469025</td>\n",
              "    </tr>\n",
              "    <tr>\n",
              "      <th>4</th>\n",
              "      <td>2014-01-20</td>\n",
              "      <td>143000.0</td>\n",
              "      <td>145600.0</td>\n",
              "      <td>142800.0</td>\n",
              "      <td>143400.0</td>\n",
              "      <td>139217.171875</td>\n",
              "      <td>367725</td>\n",
              "    </tr>\n",
              "  </tbody>\n",
              "</table>\n",
              "</div>"
            ],
            "text/plain": [
              "         Date      Open      High       Low     Close      Adj Close  Volume\n",
              "0  2014-01-14  133600.0  137200.0  132400.0  133400.0  129508.875000  981955\n",
              "1  2014-01-15  134800.0  139000.0  133400.0  138600.0  134557.187500  787795\n",
              "2  2014-01-16  140800.0  144200.0  140200.0  144000.0  139799.671875  809200\n",
              "3  2014-01-17  144000.0  144200.0  141600.0  143000.0  138828.859375  469025\n",
              "4  2014-01-20  143000.0  145600.0  142800.0  143400.0  139217.171875  367725"
            ]
          },
          "metadata": {
            "tags": []
          },
          "execution_count": 25
        }
      ]
    },
    {
      "metadata": {
        "id": "RKF_5PH7khGR",
        "colab_type": "text"
      },
      "cell_type": "markdown",
      "source": [
        "## 2. High-Low 평균값 계산"
      ]
    },
    {
      "metadata": {
        "id": "ZcsYQduekhGV",
        "colab_type": "code",
        "colab": {}
      },
      "cell_type": "code",
      "source": [
        "high = data['High'].values\n",
        "low = data['Low'].values\n",
        "mid = (high + low) / 2"
      ],
      "execution_count": 0,
      "outputs": []
    },
    {
      "metadata": {
        "id": "VQFTRa4OkhGf",
        "colab_type": "text"
      },
      "cell_type": "markdown",
      "source": [
        "## 3. Window 생성"
      ]
    },
    {
      "metadata": {
        "id": "CmeTdAAJkhGi",
        "colab_type": "code",
        "colab": {}
      },
      "cell_type": "code",
      "source": [
        "input_size = 50 # 최근 50일 데이터를 가지고 그 다음날 1일의 데이터를 예측\n",
        "window_size = input_size + 1\n",
        "\n",
        "windows = [] # 2D list가 될것임\n",
        "for i in range(len(mid) - window_size): \n",
        "    windows.append(mid[i: i + window_size]) # loop이 돌때마다 한칸씩 밀리며 51개씩의 window package 생성"
      ],
      "execution_count": 0,
      "outputs": []
    },
    {
      "metadata": {
        "id": "-BadfxQUkhGr",
        "colab_type": "text"
      },
      "cell_type": "markdown",
      "source": [
        "## 4. 데이터 정규화"
      ]
    },
    {
      "metadata": {
        "id": "drxCJA75khGu",
        "colab_type": "code",
        "colab": {}
      },
      "cell_type": "code",
      "source": [
        "normalized = []\n",
        "for window in windows:\n",
        "    normalized_window = [((float(i) / float(window[0])) - 1) for i in window]\n",
        "    # window[0] 자리에 있는 애의 mid 가격 값이 0이되도록 설정해줌.\n",
        "    normalized.append(normalized_window)\n",
        "    \n",
        "# 정규화된 window값들을 numpy array로 변환\n",
        "result = np.array(normalized)\n",
        "# 각 window가 하나씩의 row를 이루겠지"
      ],
      "execution_count": 0,
      "outputs": []
    },
    {
      "metadata": {
        "id": "Y7wndlFDkhG2",
        "colab_type": "text"
      },
      "cell_type": "markdown",
      "source": [
        "## 5. train data/ test data 나누기"
      ]
    },
    {
      "metadata": {
        "id": "RWpGvGB1khG5",
        "colab_type": "code",
        "colab": {},
        "outputId": "9964a92a-d1b6-4fdb-a944-1982f3d455dc"
      },
      "cell_type": "code",
      "source": [
        "row = int(round(result.shape[0] * 0.9)) # 약 90%를 training set으로\n",
        "train = result[:row, :]\n",
        "np.random.shuffle(train)\n",
        "\n",
        "\n",
        "x_train = train[:, :-1] # 50개 data씩 학습시킬꺼니까 x_train 한 행에 50열씩\n",
        "x_train = np.reshape(x_train, (x_train.shape[0], x_train.shape[1], 1)) # 3D array로 변환\n",
        "y_train = train[:, -1] # 50일 그 다음날 하루 예측해야하니까 y_train에 한 행에 1열씩\n",
        "\n",
        "\n",
        "x_test = result[row:, :-1]\n",
        "x_test = np.reshape(x_test, (x_test.shape[0], x_test.shape[1], 1)) # 뭉탱이 / 뭉탱이 행 / 뭉탱이 열\n",
        "y_test = result[row:, -1]\n",
        "\n",
        "x_train.shape, x_test.shape"
      ],
      "execution_count": 0,
      "outputs": [
        {
          "output_type": "execute_result",
          "data": {
            "text/plain": [
              "((1057, 50, 1), (117, 50, 1))"
            ]
          },
          "metadata": {
            "tags": []
          },
          "execution_count": 42
        }
      ]
    },
    {
      "metadata": {
        "id": "v68j8WjIkhHD",
        "colab_type": "text"
      },
      "cell_type": "markdown",
      "source": [
        "## 6. 모델 생성"
      ]
    },
    {
      "metadata": {
        "id": "E1QgKZrNkhHF",
        "colab_type": "code",
        "colab": {},
        "outputId": "4a7f81c9-5e56-4347-d062-c8bc22e50f71"
      },
      "cell_type": "code",
      "source": [
        "# keras.models.Sequential() --> 모델을 순차적으로 정의하는 Sequential 클래스 사용\n",
        "model = Sequential()\n",
        "\n",
        "# [input]\n",
        "# keras.layers.LSTM\n",
        "# model.add로 LSTM 레이어 추가\n",
        "model.add(LSTM(50, return_sequences=True, input_shape=(50, 1)))\n",
        "model.add(LSTM(64, return_sequences=False))\n",
        "\n",
        "# [output]\n",
        "# keras.layers.Dense --> fully connected layer\n",
        "model.add(Dense(1, activation='linear'))\n",
        "\n",
        "# loss function --> Mean Squared Error\n",
        "model.compile(loss='mse', optimizer='rmsprop')\n",
        "\n",
        "# 모델 개요 출력\n",
        "model.summary()"
      ],
      "execution_count": 0,
      "outputs": [
        {
          "output_type": "stream",
          "text": [
            "_________________________________________________________________\n",
            "Layer (type)                 Output Shape              Param #   \n",
            "=================================================================\n",
            "lstm_1 (LSTM)                (None, 50, 50)            10400     \n",
            "_________________________________________________________________\n",
            "lstm_2 (LSTM)                (None, 64)                29440     \n",
            "_________________________________________________________________\n",
            "dense_1 (Dense)              (None, 1)                 65        \n",
            "=================================================================\n",
            "Total params: 39,905\n",
            "Trainable params: 39,905\n",
            "Non-trainable params: 0\n",
            "_________________________________________________________________\n"
          ],
          "name": "stdout"
        }
      ]
    },
    {
      "metadata": {
        "id": "2rPUQeiykhHO",
        "colab_type": "text"
      },
      "cell_type": "markdown",
      "source": [
        "## 7. 생성한 모델로 학습시키기"
      ]
    },
    {
      "metadata": {
        "id": "P1fD3GCvkhHP",
        "colab_type": "code",
        "colab": {},
        "outputId": "3b84b7ee-2c2a-4e48-dafe-f3d93702ef2a"
      },
      "cell_type": "code",
      "source": [
        "model.fit(x_train, y_train,\n",
        "    validation_data=(x_test, y_test),\n",
        "    batch_size=10, # 한번에 10개씩 묶어서 학습\n",
        "    epochs=20)# 20번동안 반복학습"
      ],
      "execution_count": 0,
      "outputs": [
        {
          "output_type": "stream",
          "text": [
            "Train on 1057 samples, validate on 117 samples\n",
            "Epoch 1/20\n",
            "1057/1057 [==============================] - 83s 79ms/step - loss: 0.0014 - val_loss: 0.0011\n",
            "Epoch 2/20\n",
            "1057/1057 [==============================] - 49s 46ms/step - loss: 7.7318e-04 - val_loss: 9.4774e-04\n",
            "Epoch 3/20\n",
            "1057/1057 [==============================] - 52s 49ms/step - loss: 5.5604e-04 - val_loss: 7.2773e-04\n",
            "Epoch 4/20\n",
            "1057/1057 [==============================] - 55s 52ms/step - loss: 4.5347e-04 - val_loss: 5.4069e-04\n",
            "Epoch 5/20\n",
            "1057/1057 [==============================] - 56s 53ms/step - loss: 3.7463e-04 - val_loss: 3.8304e-04\n",
            "Epoch 6/20\n",
            "1057/1057 [==============================] - 56s 53ms/step - loss: 3.3627e-04 - val_loss: 3.5513e-04\n",
            "Epoch 7/20\n",
            "1057/1057 [==============================] - 58s 55ms/step - loss: 3.0250e-04 - val_loss: 4.7358e-04\n",
            "Epoch 8/20\n",
            "1057/1057 [==============================] - 48s 45ms/step - loss: 2.9470e-04 - val_loss: 3.9702e-04\n",
            "Epoch 9/20\n",
            "1057/1057 [==============================] - 40s 38ms/step - loss: 2.9506e-04 - val_loss: 2.7888e-04\n",
            "Epoch 10/20\n",
            "1057/1057 [==============================] - 46s 43ms/step - loss: 2.8140e-04 - val_loss: 3.4482e-04\n",
            "Epoch 11/20\n",
            "1057/1057 [==============================] - 44s 42ms/step - loss: 2.8174e-04 - val_loss: 3.1976e-04\n",
            "Epoch 12/20\n",
            "1057/1057 [==============================] - 44s 42ms/step - loss: 2.8482e-04 - val_loss: 3.9790e-04\n",
            "Epoch 13/20\n",
            "1057/1057 [==============================] - 44s 42ms/step - loss: 2.8083e-04 - val_loss: 3.5708e-04\n",
            "Epoch 14/20\n",
            "1057/1057 [==============================] - 45s 42ms/step - loss: 2.7472e-04 - val_loss: 2.6106e-04\n",
            "Epoch 15/20\n",
            "1057/1057 [==============================] - 45s 43ms/step - loss: 2.8293e-04 - val_loss: 3.2026e-04\n",
            "Epoch 16/20\n",
            "1057/1057 [==============================] - 45s 42ms/step - loss: 2.7276e-04 - val_loss: 3.0351e-04\n",
            "Epoch 17/20\n",
            "1057/1057 [==============================] - 44s 42ms/step - loss: 2.7176e-04 - val_loss: 3.3902e-04\n",
            "Epoch 18/20\n",
            "1057/1057 [==============================] - 43s 40ms/step - loss: 2.7889e-04 - val_loss: 2.6080e-04\n",
            "Epoch 19/20\n",
            "1057/1057 [==============================] - 39s 37ms/step - loss: 2.7171e-04 - val_loss: 2.9099e-04\n",
            "Epoch 20/20\n",
            "1057/1057 [==============================] - 41s 39ms/step - loss: 2.6764e-04 - val_loss: 2.8536e-04\n"
          ],
          "name": "stdout"
        },
        {
          "output_type": "execute_result",
          "data": {
            "text/plain": [
              "<keras.callbacks.History at 0xc20b2eed30>"
            ]
          },
          "metadata": {
            "tags": []
          },
          "execution_count": 44
        }
      ]
    },
    {
      "metadata": {
        "id": "qvhcTXaXkhHX",
        "colab_type": "text"
      },
      "cell_type": "markdown",
      "source": [
        "## 8. 예측"
      ]
    },
    {
      "metadata": {
        "id": "S5GItF9ikhHZ",
        "colab_type": "code",
        "colab": {},
        "outputId": "4502ab43-1668-43f1-aef3-1f6cb83de19e"
      },
      "cell_type": "code",
      "source": [
        "pred = model.predict(x_test) # 테스트 데이터 예측\n",
        "\n",
        "fig = plt.figure(facecolor='white', figsize=(20, 10))\n",
        "ax = fig.add_subplot(111)\n",
        "ax.plot(y_test, label='actual_price')\n",
        "ax.plot(pred, label='predicted_price')\n",
        "ax.legend()\n",
        "plt.show()"
      ],
      "execution_count": 0,
      "outputs": [
        {
          "output_type": "display_data",
          "data": {
            "image/png": "[encoded data removed]",
            "text/plain": [
              "<Figure size 1440x720 with 1 Axes>"
            ]
          },
          "metadata": {
            "tags": []
          }
        }
      ]
    },
    {
      "metadata": {
        "id": "2J-cOQtmkhHg",
        "colab_type": "code",
        "colab": {}
      },
      "cell_type": "code",
      "source": [
        ""
      ],
      "execution_count": 0,
      "outputs": []
    }
  ]
}